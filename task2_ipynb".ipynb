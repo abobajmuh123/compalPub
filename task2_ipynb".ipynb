{
  "nbformat": 4,
  "nbformat_minor": 0,
  "metadata": {
    "colab": {
      "provenance": [],
      "include_colab_link": true
    },
    "kernelspec": {
      "name": "python3",
      "display_name": "Python 3"
    },
    "language_info": {
      "name": "python"
    }
  },
  "cells": [
    {
      "cell_type": "markdown",
      "metadata": {
        "id": "view-in-github",
        "colab_type": "text"
      },
      "source": [
        "<a href=\"https://colab.research.google.com/github/abobajmuh123/compalPub/blob/main/task2_ipynb%22.ipynb\" target=\"_parent\"><img src=\"https://colab.research.google.com/assets/colab-badge.svg\" alt=\"Open In Colab\"/></a>"
      ]
    },
    {
      "cell_type": "code",
      "execution_count": null,
      "metadata": {
        "id": "ln__h1_5zr9g"
      },
      "outputs": [],
      "source": [
        "from sympy import *"
      ]
    },
    {
      "cell_type": "code",
      "source": [
        "t = symbols('t')\n",
        "v = Function(\"v\")\n",
        "h = Function(\"h\")\n",
        "g = 1.6\n",
        "m = 1"
      ],
      "metadata": {
        "id": "8EmTEn040coW"
      },
      "execution_count": null,
      "outputs": []
    },
    {
      "cell_type": "code",
      "source": [
        "eq = (Eq(Derivative(v(t),t), -m*g))\n",
        "eq"
      ],
      "metadata": {
        "colab": {
          "base_uri": "https://localhost:8080/",
          "height": 52
        },
        "id": "d6s1xjdC0hRS",
        "outputId": "aa140aef-c358-4f27-bcff-c5a9a354ae8d"
      },
      "execution_count": null,
      "outputs": [
        {
          "output_type": "execute_result",
          "data": {
            "text/plain": [
              "Eq(Derivative(v(t), t), -1.6)"
            ],
            "text/latex": "$\\displaystyle \\frac{d}{d t} v{\\left(t \\right)} = -1.6$"
          },
          "metadata": {},
          "execution_count": 8
        }
      ]
    },
    {
      "cell_type": "code",
      "source": [
        "dsolve(eq)"
      ],
      "metadata": {
        "colab": {
          "base_uri": "https://localhost:8080/",
          "height": 38
        },
        "id": "Sj2ZZbhi1Fhc",
        "outputId": "b43ccbec-2a62-4b41-ed83-583db2301f6f"
      },
      "execution_count": null,
      "outputs": [
        {
          "output_type": "execute_result",
          "data": {
            "text/plain": [
              "Eq(v(t), C1 - 1.6*t)"
            ],
            "text/latex": "$\\displaystyle v{\\left(t \\right)} = C_{1} - 1.6 t$"
          },
          "metadata": {},
          "execution_count": 9
        }
      ]
    },
    {
      "cell_type": "code",
      "source": [
        "Vt = dsolve(eq, v(t), ics={v(0):100})\n",
        "Vt"
      ],
      "metadata": {
        "colab": {
          "base_uri": "https://localhost:8080/",
          "height": 38
        },
        "id": "YlbFerFk1Jzo",
        "outputId": "a1affced-b381-43bf-9488-075a4a996233"
      },
      "execution_count": null,
      "outputs": [
        {
          "output_type": "execute_result",
          "data": {
            "text/plain": [
              "Eq(v(t), 100 - 1.6*t)"
            ],
            "text/latex": "$\\displaystyle v{\\left(t \\right)} = 100 - 1.6 t$"
          },
          "metadata": {},
          "execution_count": 17
        }
      ]
    },
    {
      "cell_type": "code",
      "source": [
        "eqHt = Eq(Derivative(h(t),t), Vt.rhs)\n",
        "eqHt"
      ],
      "metadata": {
        "colab": {
          "base_uri": "https://localhost:8080/",
          "height": 52
        },
        "id": "Tf6f-9_51b75",
        "outputId": "63e69175-0b50-4487-8348-9f8f58efa410"
      },
      "execution_count": null,
      "outputs": [
        {
          "output_type": "execute_result",
          "data": {
            "text/plain": [
              "Eq(Derivative(h(t), t), 100 - 1.6*t)"
            ],
            "text/latex": "$\\displaystyle \\frac{d}{d t} h{\\left(t \\right)} = 100 - 1.6 t$"
          },
          "metadata": {},
          "execution_count": 16
        }
      ]
    },
    {
      "cell_type": "code",
      "source": [
        "Ht = dsolve(eqHt, h(t), ics={h(0):0})\n",
        "Ht"
      ],
      "metadata": {
        "colab": {
          "base_uri": "https://localhost:8080/",
          "height": 38
        },
        "id": "mTWXzRJR10gV",
        "outputId": "ac28750b-c461-4497-dabc-b2606d94bba5"
      },
      "execution_count": null,
      "outputs": [
        {
          "output_type": "execute_result",
          "data": {
            "text/plain": [
              "Eq(h(t), -0.8*t**2 + 100.0*t)"
            ],
            "text/latex": "$\\displaystyle h{\\left(t \\right)} = - 0.8 t^{2} + 100.0 t$"
          },
          "metadata": {},
          "execution_count": 19
        }
      ]
    },
    {
      "cell_type": "code",
      "source": [
        "solve(Vt.rhs, t)[0]"
      ],
      "metadata": {
        "colab": {
          "base_uri": "https://localhost:8080/",
          "height": 37
        },
        "id": "LNMR3X8v2BUd",
        "outputId": "b4221b17-bba4-48e4-de9b-10e30ce5175d"
      },
      "execution_count": null,
      "outputs": [
        {
          "output_type": "execute_result",
          "data": {
            "text/plain": [
              "62.5000000000000"
            ],
            "text/latex": "$\\displaystyle 62.5$"
          },
          "metadata": {},
          "execution_count": 10
        }
      ]
    },
    {
      "cell_type": "code",
      "source": [
        "solve(Ht.rhs, t)[1]"
      ],
      "metadata": {
        "colab": {
          "base_uri": "https://localhost:8080/",
          "height": 37
        },
        "id": "JLQFAtcW2KzG",
        "outputId": "ec94a090-b027-4e30-e211-7f9fdb18e389"
      },
      "execution_count": null,
      "outputs": [
        {
          "output_type": "execute_result",
          "data": {
            "text/plain": [
              "125.000000000000"
            ],
            "text/latex": "$\\displaystyle 125.0$"
          },
          "metadata": {},
          "execution_count": 11
        }
      ]
    },
    {
      "cell_type": "code",
      "source": [],
      "metadata": {
        "id": "Rm6dLFT72Yyr"
      },
      "execution_count": null,
      "outputs": []
    }
  ]
}